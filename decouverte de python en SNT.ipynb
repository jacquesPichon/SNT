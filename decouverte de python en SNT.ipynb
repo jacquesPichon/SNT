# decouverte de Python
ce premier travail avec python va vous présenter l'environnement de travail que nous allons utiliser et les bases pour commencer à programmer en python.

